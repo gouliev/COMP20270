{
 "cells": [
  {
   "cell_type": "markdown",
   "id": "746b7d56",
   "metadata": {},
   "source": [
    "# Zaur Gouliev \n",
    "# Assignment 1: Student Number = 18718545\n",
    "# M.Sc CS Conversion UCD\n",
    "# B.Sc Economics UCD\n",
    "\n",
    "__________________\n",
    "\n",
    "\n",
    "Requirements for \"Random Specification\":\n",
    "COMP10280: OOP in Python\n",
    "Due Wednesday 17th November (Wk10)\n",
    "Submission Date: 06/11/2021: All functionality tested!\n",
    "__________________\n",
    "Padraig said begin with main basic class\n",
    "The MyRandom class has a randint method, a rand method, a shuffle method and a choice method.\n",
    "The MyRandom has 2 subclasses: myDie and myCoin\n",
    "The myDie and myCoin provide a function that tosses a coin and rolls a die/dice.\n",
    "The MyRandom also has a seed method that can set the seed and reset."
   ]
  },
  {
   "cell_type": "markdown",
   "id": "5d64e7c6",
   "metadata": {},
   "source": [
    "## Package imports"
   ]
  },
  {
   "cell_type": "code",
   "execution_count": null,
   "id": "304c7b1a",
   "metadata": {},
   "outputs": [],
   "source": [
    "import time\n",
    "from random import randrange\n",
    "import random      "
   ]
  },
  {
   "cell_type": "markdown",
   "id": "7904769c",
   "metadata": {},
   "source": [
    "## Main class (MyRandom) and methods (randint, rand, shuffle, choice, seed, seed_reset)\n",
    "\n",
    "In this method, the _randint uses a PRNG algorithm, linked in the linear congruential generator wikipedia page as provided by Prof. Cunningham.\n",
    "As an example, if i call randint(5,10), the output will be either 5, 6, 7, 8, 9 or 10!\n",
    "The _randint should not be callable by the user - it should/is only be used/callable by public methods internally defined.\n",
    "It is also worth mentioning that when working on the seed method. The issue I fell into was that the seed variable and seed method has the same name, to solve this I just called it something different (new_seed)."
   ]
  },
  {
   "cell_type": "code",
   "execution_count": null,
   "id": "53b84310",
   "metadata": {},
   "outputs": [],
   "source": [
    "class MyRandom: # Define the class (refer to slides L06 encapsulation) N.B: Parent Class\n",
    "#The _randint will create a random interger between anything. Then rand() will create a random interger between 0 and 1\n",
    "    def __init__(self,seed = int(time.time())): # Seed method\n",
    "        self.seeds=seed\n",
    "        \n",
    "    def _randint(self): # Defining _randint (_randint gives a completely random number between any range)\n",
    "        #Private method, different random ints everything it is invoked\n",
    "        x=self.seeds\n",
    "        a = 0.33 # According to the LCG on Wikipedia, this has to be less than M\n",
    "        c = 0.21 # This also has to be less than M\n",
    "        m = 0.51 # Greater than A and C\n",
    "        LCG = ((a*x)+c) % m # The formula given in link provided in assignment\n",
    "        x = x +1 # Augment assign the count\n",
    "        return LCG # Return value\n",
    "\n",
    "    def randint(self, bot, top): # It's giving a top and bottom of the range\n",
    "        \n",
    "        if type(bot)==int and type(top)==int and top >= bot: # Condition so that top is not less than bottom (Q5_Requirements)\n",
    "            self.bot=bot # Define self bot\n",
    "            self.top=top # Define self top\n",
    "        else:\n",
    "            print('ERROR! Please check parameters for top and bottom!') # Return error if otherwise\n",
    "        return random.randint(bot,top)    \n",
    "    \n",
    "    def rand(self): # The rand() will return a random float between 0 and 1\n",
    "        return self._randint()\n",
    "            \n",
    "    def shuffle(self, items): #Shuffle method, using Naïve method (wikipedia link/python algorithm provided in assignment)\n",
    "        \n",
    "        self.items = items # https://en.wikipedia.org/wiki/Fisher%E2%80%93Yates_shuffle\n",
    "        n = len(self.items)\n",
    "        for i in range(n):\n",
    "            j = randrange(n) # 0 <= j <= n - 1\n",
    "            self.items[j], self.items[i] = self.items[i], self.items[j]\n",
    "        print(self.items)\n",
    "        \n",
    "    def choice(self,lists): # Defining the choice method\n",
    "        \n",
    "        if type(lists) == list:\n",
    "            self.lists = lists\n",
    "            print(random.choice(self.lists))\n",
    "        else:\n",
    "            print('Argument in choice is NOT a list')\n",
    "        \n",
    "    def seed(self, new_seed): # Reset the seed, called it new_seed\n",
    "        self.seed = new_seed"
   ]
  },
  {
   "cell_type": "markdown",
   "id": "c6ca9e69",
   "metadata": {},
   "source": [
    "## The two child classes (subclasses):"
   ]
  },
  {
   "cell_type": "code",
   "execution_count": null,
   "id": "8e500cda",
   "metadata": {},
   "outputs": [],
   "source": [
    "class MyDie(MyRandom): # The myDie subclass. N.B: Child Class\n",
    "    def throw(self):\n",
    "        return random.randint(1,6)\n",
    "class MyCoin(MyRandom):\n",
    "    def toss(self):\n",
    "        toss = [\"Head\", \"Tails\"]\n",
    "        return random.choice(toss)"
   ]
  },
  {
   "cell_type": "markdown",
   "id": "5132dccf",
   "metadata": {},
   "source": [
    "## Appendix: (Given in Assignment Appendix)\n",
    "    \n",
    "## MyRandom"
   ]
  },
  {
   "cell_type": "code",
   "execution_count": null,
   "id": "95a72e8b",
   "metadata": {},
   "outputs": [],
   "source": [
    "mr1 = MyRandom()\n",
    "mr1.rand()"
   ]
  },
  {
   "cell_type": "code",
   "execution_count": null,
   "id": "d78e5759",
   "metadata": {},
   "outputs": [],
   "source": [
    "mr1 = MyRandom()\n",
    "mr1.rand()"
   ]
  },
  {
   "cell_type": "code",
   "execution_count": null,
   "id": "3cbfe627",
   "metadata": {},
   "outputs": [],
   "source": [
    "mr2 = MyRandom(seed = 11)\n",
    "mr2.rand()"
   ]
  },
  {
   "cell_type": "code",
   "execution_count": null,
   "id": "e631e752",
   "metadata": {},
   "outputs": [],
   "source": [
    "mr2 = MyRandom(seed = 11)\n",
    "mr2.rand()"
   ]
  },
  {
   "cell_type": "code",
   "execution_count": null,
   "id": "09d4a4a8",
   "metadata": {},
   "outputs": [],
   "source": [
    "for i in range(5):\n",
    "    print(mr2.rand())"
   ]
  },
  {
   "cell_type": "code",
   "execution_count": null,
   "id": "3a4e6ee5",
   "metadata": {},
   "outputs": [],
   "source": [
    "for i in range(5):\n",
    "    print(mr2.randint(9,15))"
   ]
  },
  {
   "cell_type": "code",
   "execution_count": null,
   "id": "7e0739cb",
   "metadata": {},
   "outputs": [],
   "source": [
    "mr1.shuffle(['Ace','King','Queen','Jack'])"
   ]
  },
  {
   "cell_type": "code",
   "execution_count": null,
   "id": "2806765e",
   "metadata": {},
   "outputs": [],
   "source": [
    "mr1.shuffle('Ace')"
   ]
  },
  {
   "cell_type": "code",
   "execution_count": null,
   "id": "2c90ef2a",
   "metadata": {},
   "outputs": [],
   "source": [
    "mr1.choice(['Ace','King','Queen','Jack'])"
   ]
  },
  {
   "cell_type": "code",
   "execution_count": null,
   "id": "409d8186",
   "metadata": {},
   "outputs": [],
   "source": [
    "mr1.seed(13)\n",
    "mr1.choice(['Ace','King','Queen','Jack'])"
   ]
  },
  {
   "cell_type": "markdown",
   "id": "ee635afc",
   "metadata": {},
   "source": [
    "## MyCoin and MyDie subclasses"
   ]
  },
  {
   "cell_type": "code",
   "execution_count": null,
   "id": "05770250",
   "metadata": {},
   "outputs": [],
   "source": [
    "mc1 = MyCoin()\n"
   ]
  },
  {
   "cell_type": "code",
   "execution_count": null,
   "id": "9df54975",
   "metadata": {},
   "outputs": [],
   "source": [
    "mc1.seed(42)\n",
    "mc1.toss()"
   ]
  },
  {
   "cell_type": "code",
   "execution_count": null,
   "id": "b2d2baec",
   "metadata": {},
   "outputs": [],
   "source": [
    "md1 = MyDie()"
   ]
  },
  {
   "cell_type": "code",
   "execution_count": null,
   "id": "166a7972",
   "metadata": {},
   "outputs": [],
   "source": [
    "for i in range(5):\n",
    "    print(md1.throw(), mc1.toss())"
   ]
  },
  {
   "cell_type": "code",
   "execution_count": null,
   "id": "63e331cf",
   "metadata": {},
   "outputs": [],
   "source": []
  }
 ],
 "metadata": {
  "kernelspec": {
   "display_name": "Python 3",
   "language": "python",
   "name": "python3"
  },
  "language_info": {
   "codemirror_mode": {
    "name": "ipython",
    "version": 3
   },
   "file_extension": ".py",
   "mimetype": "text/x-python",
   "name": "python",
   "nbconvert_exporter": "python",
   "pygments_lexer": "ipython3",
   "version": "3.8.8"
  }
 },
 "nbformat": 4,
 "nbformat_minor": 5
}
