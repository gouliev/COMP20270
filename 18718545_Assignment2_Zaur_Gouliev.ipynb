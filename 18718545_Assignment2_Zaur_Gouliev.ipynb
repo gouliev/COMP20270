{
 "cells": [
  {
   "cell_type": "markdown",
   "id": "6ccd18b5",
   "metadata": {},
   "source": [
    "# # Zaur Gouliev \n",
    "# Assignment 2: Student Number = 18718545\n",
    "# M.Sc CS Conversion UCD\n",
    "# B.Sc Economics UCD\n",
    "\n",
    "__________________\n",
    "\n",
    "\n",
    "Requirements for \"MyArray\":\n",
    "COMP20270: OOP in Python\n",
    "Due Wednesday 5th December (Wk12)\n",
    "Submission Date: 2X/11/2021: All functionality tested!\n",
    "__________________\n",
    "Padraig said create an array class\n",
    "\n",
    "The MyArray class has a min, max, mean function\n",
    "\n",
    "It contains a method for copying and for zeroing rows/columns\n",
    "\n",
    "It has 3 methods, getitem, setitem and repr\n",
    "\n",
    "Basic error checking included"
   ]
  },
  {
   "cell_type": "markdown",
   "id": "541848e3",
   "metadata": {},
   "source": [
    "## Package imports"
   ]
  },
  {
   "cell_type": "code",
   "execution_count": 1,
   "id": "4794b70f",
   "metadata": {},
   "outputs": [],
   "source": [
    "# import numpy as np # {UNUSED, just testing with this library}\n",
    "\n",
    "from numpy import array"
   ]
  },
  {
   "cell_type": "markdown",
   "id": "ce80baa0",
   "metadata": {},
   "source": [
    "# class MyArray:\n",
    "\n",
    "In this we created a class MyArray along with methods to find the minimum, maximum and mean in a given array (matrice with rows and columns). This functionality is similar to that of the numpy libary in Python. The copy is to be an instance of MyArray. The axis is only for two dimensional arrays because a 1D array can only ever have one row."
   ]
  },
  {
   "cell_type": "code",
   "execution_count": 2,
   "id": "74d398a1",
   "metadata": {},
   "outputs": [],
   "source": [
    "class MyArray:\n",
    "    def __init__(self, array): # First constructor\n",
    "        self.array = array\n",
    "\n",
    "    # def __init__(self, a , b=0): # Second constructor for zeros class method {UNUSED, not needed to make a second constructor}\n",
    "        \n",
    "    def min(self, axis = None): # Set the axis to 'None' to make it optional\n",
    "\n",
    "        if axis == None: # Condition in place IF no axis passed\n",
    "        \n",
    "            if not isinstance(self.array[0], list): # Here we check list is a 1D array\n",
    "\n",
    "                min = self.array[0] # Here we assume the first element is a min\n",
    "\n",
    "                for i in self.array:\n",
    "                    if i < min:\n",
    "                        min = i # Begin to replace min when new min is found\n",
    "                return min\n",
    "            elif len(self.array) == 2: # Here we check if array is 2D\n",
    "                min = self.array[0][0] \n",
    "                for i in self.array:\n",
    "                    for j in i:\n",
    "                        if j < min:\n",
    "                            min = j\n",
    "                return min\n",
    "        else: # Check IF the axis is passed\n",
    "            min  = []\n",
    "            for i in self.array:\n",
    "                local_min = i[0] # Look for min in one array at a time\n",
    "                for j in i:\n",
    "                    if j < local_min:\n",
    "                        local_min = j\n",
    "                min.append(local_min) # Use APPEND to add local min in list of mins\n",
    "            return min\n",
    "\n",
    "\n",
    "    def max(self, axis = None): # Set the axis to 'None' to make it optional\n",
    "\n",
    "        if axis == None: # Create condition IF no axis is passed\n",
    "        \n",
    "            if not isinstance(self.array[0], list): # We check if the list is a 1D array\n",
    "\n",
    "                max = self.array[0] # We assume here the the first element is max, similar to min above\n",
    "\n",
    "                for i in self.array:\n",
    "                    if i > max:\n",
    "                        max = i # We replace max when new max is found\n",
    "                return max\n",
    "            elif len(self.array) == 2: # We check IF the array is 2D\n",
    "                max = self.array[0][0] \n",
    "                for i in self.array:\n",
    "                    for j in i:\n",
    "                        if j > max:\n",
    "                            max = j\n",
    "                return max\n",
    "        else: # We check IF axis is passed\n",
    "            max  = []\n",
    "            for i in self.array:\n",
    "                local_max = i[0] # Similar to above, we look for max in one array at a time\n",
    "                for j in i:\n",
    "                    if j > local_max:\n",
    "                        local_max = j\n",
    "                max.append(local_max) # We append the local max in list of maxes\n",
    "            return max\n",
    "\n",
    "\n",
    "    def mean(self, axis = None): # We SET axis to None to make it an optional\n",
    "\n",
    "        if axis == None: # Condition again IF no axis passed\n",
    "        \n",
    "            if not isinstance(self.array[0], list): # Check to see if the list is a 1D array\n",
    "\n",
    "                return sum(self.array) / len(self.array) # Here we SUM the 1D list and divide by the length of the list\n",
    "            elif len(self.array) == 2: # Condition to check IF array is 2D\n",
    "                sums = sum(self.array[0]) + sum(self.array[1]) # We SUM both arrays\n",
    "                length = len(self.array[0]) + len(self.array[1]) # We get the cumulative/successive additions of the lengths\n",
    "                \n",
    "                return sums/ length\n",
    "        else: # IF the axis is passed\n",
    "            first_mean = sum(self.array[0]) / len(self.array[0])            \n",
    "            second_mean = sum(self.array[1]) / len(self.array[1])            \n",
    "            return [first_mean, second_mean]\n",
    "\n",
    "    def copy(self):\n",
    "        new_copy = [i[:] for i in self.array] # New array independent of the class, using index method [i[:]]\n",
    "\n",
    "        return MyArray(new_copy) # Return result\n",
    "\n",
    "    def zeros(a, b=0):\n",
    "        # return [0] * a if b==0 else [ [0]*a, [0]*b ] # method {UNUSED, need to make rows and columns}\n",
    "        if b==0:\n",
    "            return [0] * a\n",
    "        else:\n",
    "            new_array = [0] * b\n",
    "            result = []\n",
    "            for i in range(a):\n",
    "                result.append(new_array)\n",
    "            \n",
    "            return result\n",
    "        # Rows (a) and Columns (b)\n",
    "        # Creating function where one default parameter is equal to 0\n",
    "        # If we do not pass it, returns the sum of list [0] * a, else returns otherwise [0]*a, [0]*b ]\n",
    "\n",
    "    def __getitem__(self, MyArrayPoint): # Any argument we pass to our class = MyArrayPoint\n",
    "        x, y = MyArrayPoint\n",
    "        return self.array[x][y]\n",
    "    \n",
    "    def __setitem__(self, MyArrayPoint, m):\n",
    "        x, y = MyArrayPoint # We split it like this\n",
    "        self.array[x][y] = m # We do the assignment here\n",
    "\n",
    "    def __repr__(self): # Lazy method, no argument received\n",
    "        output =str(self.array[0])\n",
    "        for i in range(1, len(self.array)):\n",
    "            output += \"\\n\" + str(self.array[i])\n",
    "        return output"
   ]
  },
  {
   "cell_type": "markdown",
   "id": "7a1a525f",
   "metadata": {},
   "source": [
    "# Testing to check if it works\n",
    "\n",
    "all functionality passed from the assignment brief:"
   ]
  },
  {
   "cell_type": "code",
   "execution_count": 3,
   "id": "e1241e6e",
   "metadata": {},
   "outputs": [
    {
     "name": "stdout",
     "output_type": "stream",
     "text": [
      "1 [1, 4, 2]\n",
      "4 [1, 4, 2]\n",
      "2.3333333333333335 [1, 4, 2]\n"
     ]
    }
   ],
   "source": [
    "a1 = MyArray([1,4,2])\n",
    "print(a1.min(), a1.array)\n",
    "print(a1.max(), a1.array)\n",
    "print(a1.mean(), a1.array)"
   ]
  },
  {
   "cell_type": "code",
   "execution_count": 4,
   "id": "83db1d87",
   "metadata": {},
   "outputs": [
    {
     "name": "stdout",
     "output_type": "stream",
     "text": [
      "0 [[1, 4, 2], [4, 6, 7, 0]]\n",
      "7 [[1, 4, 2], [4, 6, 7, 0]]\n",
      "3.4285714285714284 [[1, 4, 2], [4, 6, 7, 0]]\n"
     ]
    }
   ],
   "source": [
    "a2 = MyArray([[1,4,2], [4,6,7,0]])\n",
    "print(a2.min(), a2.array)\n",
    "print(a2.max(), a2.array)\n",
    "print(a2.mean(), a2.array)"
   ]
  },
  {
   "cell_type": "code",
   "execution_count": 5,
   "id": "bd82d6e7",
   "metadata": {},
   "outputs": [
    {
     "name": "stdout",
     "output_type": "stream",
     "text": [
      "with axis=1 [1, 0] [[1, 4, 2], [4, 6, 7, 0]]\n",
      "with axis=1 [4, 7] [[1, 4, 2], [4, 6, 7, 0]]\n",
      "with axis=1 [2.3333333333333335, 4.25] [[1, 4, 2], [4, 6, 7, 0]]\n"
     ]
    }
   ],
   "source": [
    "a2 = MyArray([[1,4,2], [4,6,7,0]])\n",
    "print(\"with axis=1\", a2.min(axis=1), a2.array)\n",
    "print(\"with axis=1\", a2.max(axis=1), a2.array)\n",
    "print(\"with axis=1\", a2.mean(axis=1), a2.array)"
   ]
  },
  {
   "cell_type": "code",
   "execution_count": 6,
   "id": "5a106cc9",
   "metadata": {},
   "outputs": [
    {
     "name": "stdout",
     "output_type": "stream",
     "text": [
      "[1, 2, 3, 4, 5]\n",
      "[4, 9, 6, 7, 8]\n",
      "[1, 2, 3, 4, 5]\n",
      "[4, 5, 6, 7, 8]\n"
     ]
    }
   ],
   "source": [
    "ma2 = MyArray([[1,2,3,4,5],[4,5,6,7,8]])\n",
    "ma2c = ma2.copy()\n",
    "ma2d = ma2\n",
    "ma2.array[1][1] = 9\n",
    "for i in ma2d.array:\n",
    "    print(i)\n",
    "for i in ma2c.array:\n",
    "    print(i)"
   ]
  },
  {
   "cell_type": "code",
   "execution_count": 7,
   "id": "23e84adc",
   "metadata": {},
   "outputs": [
    {
     "name": "stdout",
     "output_type": "stream",
     "text": [
      "[0, 0, 0, 0, 0, 0, 0]\n",
      "[0, 0, 0, 0, 0, 0, 0]\n",
      "[0, 0, 0, 0, 0, 0, 0]\n",
      "[0, 0, 0, 0, 0]\n"
     ]
    }
   ],
   "source": [
    "za = MyArray.zeros(3,7)\n",
    "for i in za:\n",
    "    print(i)\n",
    "za = MyArray.zeros(5)\n",
    "print(za)"
   ]
  },
  {
   "cell_type": "code",
   "execution_count": 8,
   "id": "9c0d4c21",
   "metadata": {},
   "outputs": [
    {
     "name": "stdout",
     "output_type": "stream",
     "text": [
      "===============\n"
     ]
    }
   ],
   "source": [
    "print(\"=\"*15)"
   ]
  },
  {
   "cell_type": "code",
   "execution_count": 9,
   "id": "00bcf67e",
   "metadata": {},
   "outputs": [
    {
     "name": "stdout",
     "output_type": "stream",
     "text": [
      "[1, 2, 3, 4, 5]\n",
      "[4, 9, 6, 7, 8]\n"
     ]
    }
   ],
   "source": [
    "print(ma2)"
   ]
  },
  {
   "cell_type": "code",
   "execution_count": 10,
   "id": "f7cc340a",
   "metadata": {},
   "outputs": [
    {
     "name": "stdout",
     "output_type": "stream",
     "text": [
      "7\n",
      "[1, 2, 3, 4, 5]\n",
      "[4, 9, 6, 0, 8]\n"
     ]
    }
   ],
   "source": [
    "print(ma2[1,3])\n",
    "ma2[1,3] = 0\n",
    "print(ma2)"
   ]
  },
  {
   "cell_type": "code",
   "execution_count": null,
   "id": "a52c2fa3",
   "metadata": {},
   "outputs": [],
   "source": []
  },
  {
   "cell_type": "code",
   "execution_count": null,
   "id": "79d43278",
   "metadata": {},
   "outputs": [],
   "source": []
  }
 ],
 "metadata": {
  "kernelspec": {
   "display_name": "Python 3",
   "language": "python",
   "name": "python3"
  },
  "language_info": {
   "codemirror_mode": {
    "name": "ipython",
    "version": 3
   },
   "file_extension": ".py",
   "mimetype": "text/x-python",
   "name": "python",
   "nbconvert_exporter": "python",
   "pygments_lexer": "ipython3",
   "version": "3.8.8"
  }
 },
 "nbformat": 4,
 "nbformat_minor": 5
}
